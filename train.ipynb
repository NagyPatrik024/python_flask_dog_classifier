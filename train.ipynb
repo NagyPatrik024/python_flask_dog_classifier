{
  "cells": [
    {
      "cell_type": "code",
      "execution_count": null,
      "metadata": {
        "id": "fiqA9EAGmvcb"
      },
      "outputs": [],
      "source": [
        "#----------unzip all images-----------\n",
        "\n",
        "ZIP_PATH = '/content/drive/MyDrive/data/classes_original_full/classes_original.zip'\n",
        "\n",
        "import zipfile\n",
        "with zipfile.ZipFile(ZIP_PATH,\"r\") as zip_ref:\n",
        "    zip_ref.extractall(\"./\")"
      ]
    },
    {
      "cell_type": "code",
      "execution_count": null,
      "metadata": {
        "id": "i2bFjjzIfQMu"
      },
      "outputs": [],
      "source": [
        "#pip install tensorflow-gpu==1.15.0"
      ]
    },
    {
      "cell_type": "code",
      "execution_count": null,
      "metadata": {
        "id": "VTGqJE9OnDTg"
      },
      "outputs": [],
      "source": [
        "\n",
        "!pip install keras\n",
        "!pip install tensorflow\n"
      ]
    },
    {
      "cell_type": "code",
      "execution_count": null,
      "metadata": {
        "id": "8gyWhzYOe7i5"
      },
      "outputs": [],
      "source": [
        "!pip install split-folders"
      ]
    },
    {
      "cell_type": "code",
      "execution_count": null,
      "metadata": {
        "colab": {
          "base_uri": "https://localhost:8080/"
        },
        "id": "H5nhqzbnoWBr",
        "outputId": "f37d215b-0495-4f65-ea68-31da45a2f694"
      },
      "outputs": [
        {
          "name": "stderr",
          "output_type": "stream",
          "text": [
            "Copying files: 10217 files [00:02, 4674.80 files/s]\n"
          ]
        }
      ],
      "source": [
        "# split dataset into train, test and validation datasets\n",
        "import os\n",
        "import splitfolders\n",
        "import numpy as np\n",
        "import tqdm\n",
        "from pathlib import Path\n",
        "\n",
        "PATH = '/content/classes/'\n",
        "\n",
        "splitfolders.ratio(PATH, output=\"train_data\", seed=1332, ratio=(0.7,0.2,0.1))"
      ]
    },
    {
      "cell_type": "code",
      "execution_count": null,
      "metadata": {
        "colab": {
          "base_uri": "https://localhost:8080/"
        },
        "id": "OS7Crg0EopvT",
        "outputId": "40303d93-0733-4546-c6ba-003bd5cfedc8"
      },
      "outputs": [
        {
          "name": "stdout",
          "output_type": "stream",
          "text": [
            "['affenpinscher', 'afghan_hound', 'african_hunting_dog', 'airedale', 'american_staffordshire_terrier', 'appenzeller', 'australian_terrier', 'basenji', 'basset', 'beagle', 'bedlington_terrier', 'bernese_mountain_dog', 'black-and-tan_coonhound', 'blenheim_spaniel', 'bloodhound', 'bluetick', 'border_collie', 'border_terrier', 'borzoi', 'boston_bull', 'bouvier_des_flandres', 'boxer', 'brabancon_griffon', 'briard', 'brittany_spaniel', 'bull_mastiff', 'cairn', 'cardigan', 'chesapeake_bay_retriever', 'chihuahua', 'chow', 'clumber', 'cocker_spaniel', 'collie', 'curly-coated_retriever', 'dandie_dinmont', 'dhole', 'dingo', 'doberman', 'english_foxhound', 'english_setter', 'english_springer', 'entlebucher', 'eskimo_dog', 'flat-coated_retriever', 'french_bulldog', 'german_shepherd', 'german_short-haired_pointer', 'giant_schnauzer', 'golden_retriever', 'gordon_setter', 'great_dane', 'great_pyrenees', 'greater_swiss_mountain_dog', 'groenendael', 'ibizan_hound', 'irish_setter', 'irish_terrier', 'irish_water_spaniel', 'irish_wolfhound', 'italian_greyhound', 'japanese_spaniel', 'keeshond', 'kelpie', 'kerry_blue_terrier', 'komondor', 'kuvasz', 'labrador_retriever', 'lakeland_terrier', 'leonberg', 'lhasa', 'malamute', 'malinois', 'maltese_dog', 'mexican_hairless', 'miniature_pinscher', 'miniature_poodle', 'miniature_schnauzer', 'newfoundland', 'norfolk_terrier', 'norwegian_elkhound', 'norwich_terrier', 'old_english_sheepdog', 'otterhound', 'papillon', 'pekinese', 'pembroke', 'pomeranian', 'pug', 'redbone', 'rhodesian_ridgeback', 'rottweiler', 'saint_bernard', 'saluki', 'samoyed', 'schipperke', 'scotch_terrier', 'scottish_deerhound', 'sealyham_terrier', 'shetland_sheepdog', 'shih-tzu', 'siberian_husky', 'silky_terrier', 'soft-coated_wheaten_terrier', 'staffordshire_bullterrier', 'standard_poodle', 'standard_schnauzer', 'sussex_spaniel', 'tibetan_mastiff', 'tibetan_terrier', 'toy_poodle', 'toy_terrier', 'vizsla', 'walker_hound', 'weimaraner', 'welsh_springer_spaniel', 'west_highland_white_terrier', 'whippet', 'wire-haired_fox_terrier', 'yorkshire_terrier']\n"
          ]
        }
      ],
      "source": [
        "# Print all breeds' name\n",
        "\n",
        "from glob import glob\n",
        "PATH = 'train_data/'\n",
        "dog_names = [item[17:] for item in sorted(glob(PATH + \"train/*\"))]\n",
        "print(dog_names)"
      ]
    },
    {
      "cell_type": "code",
      "execution_count": null,
      "metadata": {
        "id": "7GvaEVEknPFH"
      },
      "outputs": [],
      "source": [
        "from sklearn.datasets import load_files       \n",
        "from keras.utils import np_utils\n",
        "from tensorflow.keras.utils import load_img, img_to_array\n",
        "from glob import glob\n",
        "import numpy as np\n",
        "import tensorflow as tf\n",
        "\n",
        "PATH = 'train_data/'\n",
        "\n",
        "# define function to load train, test, and validation datasets\n",
        "def load_dataset(path):\n",
        "    data = load_files(path)\n",
        "    dog_files = np.array(data['filenames'])\n",
        "    dog_targets = np_utils.to_categorical(np.array(data['target']), 120)\n",
        "    return dog_files, dog_targets\n",
        "\n",
        "# load train, test, and validation datasets\n",
        "train_files, train_targets = load_dataset(PATH + 'train')\n",
        "valid_files, valid_targets = load_dataset(PATH + 'val')\n",
        "test_files, test_targets = load_dataset(PATH + 'test')\n",
        "\n",
        "\n",
        "\n",
        "#----------Dog detector on image-----------\n",
        "\n",
        "from keras.applications.resnet import ResNet50\n",
        "# define ResNet50 model\n",
        "ResNet50_model = ResNet50(weights='imagenet')\n",
        "\n",
        "from keras.applications.resnet import preprocess_input, decode_predictions\n",
        "\n",
        "def ResNet50_predict_labels(img_path):\n",
        "    # returns prediction vector for image located at img_path\n",
        "    img = preprocess_input(path_to_tensor(img_path))\n",
        "    return np.argmax(ResNet50_model.predict(img))\n",
        "def dog_detector(img_path):\n",
        "    prediction = ResNet50_predict_labels(img_path)\n",
        "    return ((prediction <= 268) & (prediction >= 151))\n",
        "\n",
        "\n",
        "#--------------- image to tensor---------------\n",
        "\n",
        "from keras.preprocessing import image\n",
        "from tqdm import tqdm\n",
        "\n",
        "def path_to_tensor(img_path):\n",
        "    # loads RGB image as PIL.Image.Image type\n",
        "    img = load_img(img_path, target_size=(224, 224))\n",
        "    # convert PIL.Image.Image type to 3D tensor with shape (224, 224, 3)\n",
        "    x = img_to_array(img)\n",
        "    # convert 3D tensor to 4D tensor with shape (1, 224, 224, 3) and return 4D tensor\n",
        "    return np.expand_dims(x, axis=0)\n",
        "\n",
        "def paths_to_tensor(img_paths):\n",
        "    list_of_tensors = [path_to_tensor(img_path) for img_path in tqdm(img_paths)]\n",
        "    return np.vstack(list_of_tensors)\n",
        "\n",
        "\n",
        "train_tensors = paths_to_tensor(train_files).astype('float32')/255\n",
        "valid_tensors = paths_to_tensor(valid_files).astype('float32')/255\n",
        "test_tensors = paths_to_tensor(test_files).astype('float32')/255\n",
        "\n",
        "\n",
        "from keras.preprocessing.image import ImageDataGenerator\n",
        "\n",
        "# create and configure augmented image generator\n",
        "datagen_train = ImageDataGenerator(\n",
        "    width_shift_range=0.1,  # randomly shift images horizontally (10% of total width)\n",
        "    height_shift_range=0.1,  # randomly shift images vertically (10% of total height)\n",
        "    horizontal_flip=True, # randomly flip images horizontally\n",
        "    shear_range=0.2,\n",
        "    zoom_range=0.2,) \n",
        "\n",
        "# create and configure augmented image generator\n",
        "datagen_valid = ImageDataGenerator(\n",
        "    width_shift_range=0.1,  # randomly shift images horizontally (10% of total width)\n",
        "    height_shift_range=0.1,  # randomly shift images vertically (10% of total height)\n",
        "    horizontal_flip=True, # randomly flip images horizontally\n",
        "    shear_range=0.2,\n",
        "    zoom_range=0.2,) \n",
        "\n",
        "# datagen_valid = ImageDataGenerator(\n",
        "#         width_shift_range=0.1,  # randomly shift images horizontally (10% of total width)\n",
        "#         height_shift_range=0.1,  # randomly shift images vertically (10% of total height)\n",
        "#         rotation_range=40,\n",
        "#         zoom_range = 0.1,\n",
        "#         rescale=1./255)\n",
        "\n",
        "# fit augmented image generator on data\n",
        "datagen_train.fit(train_tensors)\n",
        "datagen_valid.fit(valid_tensors)\n",
        "\n",
        "\n"
      ]
    },
    {
      "cell_type": "code",
      "execution_count": null,
      "metadata": {
        "id": "sLEUzJE_mlQl"
      },
      "outputs": [],
      "source": [
        "\n",
        "###-------------------- Train the model.--------------------\n",
        "\n",
        "input_shape =(224,224,3)\n",
        "# folderek száma legyen\n",
        "NUM_CLASSES = 120\n",
        "\n",
        "\n",
        "from keras.layers import Conv2D, MaxPooling2D, GlobalAveragePooling2D\n",
        "from keras.layers import Dropout, Flatten, Dense\n",
        "from keras.models import Sequential\n",
        "from keras.applications.xception import Xception\n",
        "\n",
        "base_model = Xception(weights='imagenet',\n",
        "                      input_shape =(224,224,3),\n",
        "                      include_top=False)\n",
        "\n",
        "# add a global spatial average pooling layer\n",
        "x = base_model.output\n",
        "x = GlobalAveragePooling2D()(x)\n",
        "x = tf.keras.layers.Dropout(0.2)(x)\n",
        "# let's add a fully-connected layer\n",
        "# x = Dense(1024, activation='relu')(x)\n",
        "# and a logistic layer -- \n",
        "predictions = Dense(NUM_CLASSES, activation='softmax')(x)\n",
        "\n",
        "# first: train only the top layers (which were randomly initialized)\n",
        "# i.e. freeze all convolutional Xception layers\n",
        "for layer in base_model.layers:\n",
        "    layer.trainable = False\n",
        "\n",
        "\n",
        "from keras import optimizers\n",
        "from keras.callbacks import ReduceLROnPlateau\n",
        "from keras.callbacks import EarlyStopping\n",
        "from keras import Model\n",
        "\n",
        "\n",
        "optimizer = optimizers.RMSprop(learning_rate=0.001, rho=0.9, epsilon=None, decay=0.0)\n",
        "\n",
        "learning_rate_reduction = ReduceLROnPlateau(monitor='val_accuracy', \n",
        "                                            patience=2, \n",
        "                                            verbose=1, \n",
        "                                            factor=0.5, \n",
        "                                            min_lr=0.00001)\n",
        "\n",
        "earlystopping = EarlyStopping(monitor =\"val_loss\", \n",
        "                              mode =\"min\", patience = 5, \n",
        "                              restore_best_weights = True)\n",
        "\n",
        "batch_size = 32\n",
        "epochs = 100\n",
        "\n",
        "xception = Model(inputs=base_model.input, outputs=predictions)\n",
        "# this is the model we will train\n",
        "xception.compile(optimizer=optimizer, loss='categorical_crossentropy', metrics=['accuracy'])\n",
        "\n",
        "xception.fit(\n",
        "                    datagen_train.flow(train_tensors, train_targets, batch_size=batch_size),\n",
        "                    # // batch size kivéve\n",
        "                    steps_per_epoch = train_tensors.shape[0],\n",
        "                    epochs=epochs, \n",
        "                    batch_size = batch_size,\n",
        "                    callbacks=[earlystopping, learning_rate_reduction],\n",
        "                    validation_data = datagen_valid.flow(valid_tensors, valid_targets, batch_size=batch_size),\n",
        "                    validation_steps = valid_tensors.shape[0])\n",
        "\n",
        "xception.save('/content/drive/MyDrive/data/my_model_120_20.h5')\n",
        "\n",
        "\n",
        "# # report test accuracy\n",
        "\n",
        "# get index of predicted dog breed for each image in test set\n",
        "dog_breed_predictions = [np.argmax(xception.predict(np.expand_dims(tensor, axis=0))) for tensor in test_tensors]\n",
        "\n",
        "# print(np.argmax(xception.predict(np.expand_dims(test_tensors[0], axis=0))))\n",
        "# report test accuracy\n",
        "test_accuracy = 100*np.sum(np.array(dog_breed_predictions)==np.argmax(test_targets, axis=1))/len(dog_breed_predictions)\n",
        "print('Test accuracy: %.4f%%' % test_accuracy)\n",
        "\n"
      ]
    },
    {
      "cell_type": "code",
      "execution_count": null,
      "metadata": {
        "colab": {
          "base_uri": "https://localhost:8080/"
        },
        "id": "Kr9bZ2tjoIit",
        "outputId": "bea060c4-8d90-4196-aeff-92f7f99a76e0"
      },
      "outputs": [
        {
          "name": "stdout",
          "output_type": "stream",
          "text": [
            "Drive already mounted at /content/drive; to attempt to forcibly remount, call drive.mount(\"/content/drive\", force_remount=True).\n"
          ]
        }
      ],
      "source": [
        "from google.colab import drive\n",
        "drive.mount('/content/drive')"
      ]
    },
    {
      "cell_type": "code",
      "execution_count": null,
      "metadata": {
        "colab": {
          "base_uri": "https://localhost:8080/",
          "height": 324
        },
        "id": "92vku8YZrUgP",
        "outputId": "609d8ca9-a2ab-43a9-e5d5-63ad98b35c01"
      },
      "outputs": [
        {
          "data": {
            "image/jpeg": "[encoded data removed]",
            "text/plain": [
              "<IPython.core.display.Image object>"
            ]
          },
          "metadata": {
            "image/jpeg": {
              "height": 200,
              "width": 200
            }
          },
          "output_type": "display_data"
        },
        {
          "name": "stdout",
          "output_type": "stream",
          "text": [
            "1/1 [==============================] - 0s 22ms/step\n",
            "This is predicted to be a dog, and its breed is: \n"
          ]
        },
        {
          "name": "stderr",
          "output_type": "stream",
          "text": [
            "WARNING:tensorflow:5 out of the last 9 calls to <function Model.make_predict_function.<locals>.predict_function at 0x7fb0661d7910> triggered tf.function retracing. Tracing is expensive and the excessive number of tracings could be due to (1) creating @tf.function repeatedly in a loop, (2) passing tensors with different shapes, (3) passing Python objects instead of tensors. For (1), please define your @tf.function outside of the loop. For (2), @tf.function has reduce_retracing=True option that can avoid unnecessary retracing. For (3), please refer to https://www.tensorflow.org/guide/function#controlling_retracing and https://www.tensorflow.org/api_docs/python/tf/function for  more details.\n"
          ]
        },
        {
          "name": "stdout",
          "output_type": "stream",
          "text": [
            "1/1 [==============================] - 1s 717ms/step\n",
            "boston_bull\n"
          ]
        }
      ],
      "source": [
        "# -----------------Breed predict---------------------\n",
        "from tensorflow import keras\n",
        "xception = keras.models.load_model('/content/drive/MyDrive/data/my_model_120_20.h5')\n",
        "def predict_breed(img_path):\n",
        "    \n",
        "\n",
        "    image_as_tensor = path_to_tensor(img_path).astype('float32')/255\n",
        "    pred_vector = xception.predict(image_as_tensor)\n",
        "\n",
        "    return dog_names[np.argmax(pred_vector)]\n",
        "\n",
        "from IPython.core.display import Image, display\n",
        "\n",
        "def breed_algorithm(img_path):\n",
        "    display(Image(img_path, width=200, height=200))\n",
        "    \n",
        "    if dog_detector(img_path) == 1:\n",
        "        print(\"This is predicted to be a dog, and its breed is: \")\n",
        "        return predict_breed(img_path)\n",
        "    else:\n",
        "        return print(\"It wasn't possible to identify a dog in the image. Please try again.\")\n",
        "\n",
        "print(breed_algorithm(\"/content/train_data/test/boston_bull/010d65bd29d246aea53d9849da142ccf.jpg\"))"
      ]
    }
  ],
  "metadata": {
    "accelerator": "GPU",
    "colab": {
      "machine_shape": "hm",
      "provenance": []
    },
    "gpuClass": "standard",
    "kernelspec": {
      "display_name": "Python 3",
      "name": "python3"
    },
    "language_info": {
      "name": "python"
    }
  },
  "nbformat": 4,
  "nbformat_minor": 0
}
